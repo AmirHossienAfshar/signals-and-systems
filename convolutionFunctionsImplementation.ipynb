{
 "cells": [
  {
   "cell_type": "markdown",
   "metadata": {},
   "source": [
    "# Convolution of Signals\n",
    "### Welcome to the convolution module of Signals and Systems.\n",
    "In this notebook, you will learn how convolution works in signal processing and implement functions to perform convolution in both continuous and discrete domains. By the end of this exercise, you will be able to:\n",
    "\n",
    "- Understand the mathematical concept of convolution\n",
    "- Implement continuous convolution using numerical integration\n",
    "- Implement discrete convolution using summation\n",
    "- Visualize the results of convolution operations on example signals"
   ]
  },
  {
   "cell_type": "markdown",
   "metadata": {},
   "source": [
    "### First, run these imports:"
   ]
  },
  {
   "cell_type": "code",
   "execution_count": null,
   "metadata": {},
   "outputs": [],
   "source": [
    "import numpy as np\n",
    "import matplotlib.pyplot as plt"
   ]
  },
  {
   "cell_type": "markdown",
   "metadata": {},
   "source": [
    "### What is Convolution?\n",
    "Convolution is a mathematical operation used in signal processing to combine two signals. The formula for continuous-time convolution is given by:\n",
    "$$ y(t) = \\int_{-\\infty}^{\\infty} x(\\tau) h(t - \\tau) d\\tau $$\n",
    "\n",
    "For discrete signals, the summation form is used:\n",
    "$$ y[n] = \\sum_{k=-\\infty}^{\\infty} x[k] h[n-k] $$"
   ]
  },
  {
   "cell_type": "markdown",
   "metadata": {},
   "source": [
    "### Implement Continuous Convolution\n",
    "Complete the function below to perform continuous convolution using numerical integration.\n",
    "\n",
    "For continuous-time signals, convolution is defined by:\n",
    "$$ y(t) = \\int_{-\\infty}^{\\infty} x(\\tau) h(t - \\tau) d\\tau $$\n",
    "\n",
    "To implement this numerically:\n",
    "1. Use `scipy.integrate.quad` for numerical integration\n",
    "2. For each time point `t`, integrate over all possible values of τ\n",
    "3. The integrand is the product of `x(τ)` and `h(t-τ)`\n",
    "\n",
    "Example approach:\n",
    "```python\n",
    "# For each time point t_i in the time array t:\n",
    "# Calculate y(t_i) = integral of x(τ)*h(t_i-τ) from -∞ to ∞\n",
    "```"
   ]
  },
  {
   "cell_type": "code",
   "execution_count": null,
   "metadata": {},
   "outputs": [],
   "source": [
    "def continuous_convolution(x, h, t):\n",
    "    # TODO: Implement convolution using numerical integration\n",
    "    pass  "
   ]
  },
  {
   "cell_type": "markdown",
   "metadata": {},
   "source": [
    "### Implement Discrete Convolution\n",
    "Complete the function below to perform discrete convolution using summation.\n",
    "\n",
    "For discrete-time signals, convolution is defined by:\n",
    "$$ y[n] = \\sum_{k=-\\infty}^{\\infty} x[k] h[n-k] $$\n",
    "\n",
    "To implement this numerically:\n",
    "1. Determine the length of the output signal (should be N+M-1 where N is the length of x and M is the length of h)\n",
    "2. For each output index n, calculate the sum of all valid products\n",
    "3. Note that you only need to sum over the valid range where both x[k] and h[n-k] are defined\n",
    "\n",
    "Example approach:\n",
    "```python\n",
    "# Create output array of appropriate length\n",
    "# For each output index n:\n",
    "#     For each index k in x:\n",
    "#         If h[n-k] is defined (i.e., 0 ≤ n-k < len(h)):\n",
    "#             Add x[k]*h[n-k] to y[n]\n",
    "```"
   ]
  },
  {
   "cell_type": "code",
   "execution_count": null,
   "metadata": {},
   "outputs": [],
   "source": [
    "def discrete_convolution(x, h):\n",
    "    # TODO: Implement convolution using summation\n",
    "    pass  "
   ]
  },
  {
   "cell_type": "markdown",
   "metadata": {},
   "source": [
    "#### `use the code below to test the implementation of the discrete convolution and the continuous convolution`"
   ]
  },
  {
   "cell_type": "code",
   "execution_count": null,
   "metadata": {},
   "outputs": [],
   "source": [
    "import numpy as np\n",
    "import matplotlib.pyplot as plt\n",
    "from scipy.integrate import quad\n",
    "\n",
    "def test_discrete_convolution():\n",
    "    x = np.array([1, 2, 3])\n",
    "    h = np.array([0, 1, 0.5])\n",
    "    result = discrete_convolution(x, h)\n",
    "    plt.stem(range(len(result)), result)\n",
    "    plt.xlabel(\"n\")\n",
    "    plt.ylabel(\"y[n]\")\n",
    "    plt.title(\"Discrete-Time Convolution\")\n",
    "    plt.show()\n",
    "\n",
    "def test_continuous_convolution():\n",
    "    x = lambda t: np.exp(-t) * (t > 0)\n",
    "    h = lambda t: (t > 0) * (t < 1)\n",
    "    t = np.linspace(-1, 5, 100)\n",
    "    y = continuous_convolution(x, h, t)\n",
    "    \n",
    "    plt.plot(t, y, label='Continuous Convolution')\n",
    "    plt.xlabel('t')\n",
    "    plt.ylabel('y(t)')\n",
    "    plt.legend()\n",
    "    plt.title('Test Continuous Convolution')\n",
    "    plt.show()\n",
    "\n",
    "test_discrete_convolution()\n",
    "test_continuous_convolution()"
   ]
  }
 ],
 "metadata": {
  "language_info": {
   "name": "python"
  }
 },
 "nbformat": 4,
 "nbformat_minor": 2
}
