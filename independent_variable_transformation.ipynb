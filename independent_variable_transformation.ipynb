{
 "cells": [
  {
   "cell_type": "markdown",
   "id": "edfa3839-c4dc-4e80-9065-7810e67ddc9b",
   "metadata": {},
   "source": [
    "# independet variable transformation"
   ]
  },
  {
   "cell_type": "markdown",
   "id": "e93de5be-8a68-4c08-ad0e-8561d21e0680",
   "metadata": {},
   "source": [
    "### wellcome to the very first documentation of the signals and systems.\n",
    "you are about to learn how the independent variable transform, effects to the signal.\n",
    "we are going to do the implementation and visualize them using `matplotlib`.\n",
    "let's get started!\n",
    "\n",
    "this topic is what you have privously learnt in the high-school, under 'انتقال تابع' section of the course 'حسابان'; so that must not be such a complicated thing to understand, it's more of a hand's on to the `ipynb` files."
   ]
  },
  {
   "cell_type": "code",
   "execution_count": null,
   "id": "27997f3a-f49b-4e73-bec7-d1e97632a3ff",
   "metadata": {},
   "outputs": [],
   "source": []
  }
 ],
 "metadata": {
  "kernelspec": {
   "display_name": "Python 3 (ipykernel)",
   "language": "python",
   "name": "python3"
  },
  "language_info": {
   "codemirror_mode": {
    "name": "ipython",
    "version": 3
   },
   "file_extension": ".py",
   "mimetype": "text/x-python",
   "name": "python",
   "nbconvert_exporter": "python",
   "pygments_lexer": "ipython3",
   "version": "3.11.5"
  }
 },
 "nbformat": 4,
 "nbformat_minor": 5
}
